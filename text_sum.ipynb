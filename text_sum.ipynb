{
 "cells": [
  {
   "cell_type": "code",
   "execution_count": 22,
   "metadata": {
    "collapsed": false
   },
   "outputs": [],
   "source": [
    "import pandas as pd\n",
    "import numpy as np\n",
    "import requests\n",
    "\n",
    "import logging\n",
    "logging.basicConfig(format='%(asctime)s : %(levelname)s : %(message)s', level=logging.INFO)\n",
    "\n",
    "from gensim.summarization import summarize\n",
    "from gensim.summarization import keywords"
   ]
  },
  {
   "cell_type": "code",
   "execution_count": 27,
   "metadata": {
    "collapsed": false
   },
   "outputs": [
    {
     "name": "stderr",
     "output_type": "stream",
     "text": [
      "/Users/AlexH/anaconda/lib/python2.7/site-packages/IPython/core/interactiveshell.py:2723: DtypeWarning: Columns (5,11) have mixed types. Specify dtype option on import or set low_memory=False.\n",
      "  interactivity=interactivity, compiler=compiler, result=result)\n"
     ]
    }
   ],
   "source": [
    "df = pd.read_csv(\"~/Downloads/Consumer_Complaints.csv\")"
   ]
  },
  {
   "cell_type": "markdown",
   "metadata": {},
   "source": [
    "# EDA"
   ]
  },
  {
   "cell_type": "code",
   "execution_count": 28,
   "metadata": {
    "collapsed": false
   },
   "outputs": [],
   "source": [
    "# top product complaints: mortgage, debt collection, credit reporting\n",
    "# top states: CA, FL, TX\n",
    "# submitted via: web, referral\n",
    "# most customers did not dispute\n",
    "# top offender companies: bank of america, wells fargo, equifax\n",
    "#    but it might just be that these companies have more customers than others\n",
    "# whether or not timely response, most customers (4x) did not dispute\n",
    "# top issues: Loan modification,collection,foreclosure; Incorrect information on credit report;\n",
    "#    Loan servicing, payments, escrow account"
   ]
  },
  {
   "cell_type": "markdown",
   "metadata": {},
   "source": [
    "## keeping only columns with customer complaint text"
   ]
  },
  {
   "cell_type": "code",
   "execution_count": null,
   "metadata": {
    "collapsed": true
   },
   "outputs": [],
   "source": [
    "df = df.dropna(subset=['Consumer complaint narrative'])\n",
    "# top product complaint becomes debt collection\n",
    "# for credit reporting: equifax, experian, transunion\n",
    "# for credit card: citibank, capital one, synchrony financial\n",
    "# for mortgage: wells fargo, ocwen, bank of america\n",
    "\n",
    "# equifax: takes long time, ignores, inaccurate info"
   ]
  },
  {
   "cell_type": "code",
   "execution_count": 45,
   "metadata": {
    "collapsed": false
   },
   "outputs": [
    {
     "data": {
      "text/plain": [
       "'Equifax refuses to report and remove foreclosure correctly. My original loan through XXXX XXXX went into foreclosure. The loan was sold/transferred to XXXX. Where the foreclosure was finalized. The XXXX XXXX is due to fall off my reports as a foreclosure XXXX 2016. Equifax states they will continue to report XXXX account, even though it is the same loan and same foreclosure. I just want the XXXX account to be treated as the XXXX XXXX and be removed by XXXX 2016, 7 years from the first payment delinquency.'"
      ]
     },
     "execution_count": 45,
     "metadata": {},
     "output_type": "execute_result"
    }
   ],
   "source": [
    "df_ef = df.ix[(df['Product'] == 'Credit reporting') & (df['Company'] == 'Equifax'), \n",
    "              'Consumer complaint narrative'].reset_index()\n",
    "df_ef.sample()['Consumer complaint narrative'].values[0].strip()"
   ]
  },
  {
   "cell_type": "code",
   "execution_count": 53,
   "metadata": {
    "collapsed": false
   },
   "outputs": [
    {
     "name": "stdout",
     "output_type": "stream",
     "text": [
      "I asked for full investigation including verifying all information which they did not do. Date Opened is not correct, where is the proof. The last activity date of XXXX 2013 is incorrect, the last payment was XXXX 2013. FCRA 611-15 USC 1681 5 ( A ) If, after any reinvestigation under paragraph ( 1 ) of any information disputed by a consumer, an item of the information is found to be inaccurate or incomplete or can not be verified, the consumer reporting agency shall promptly DELETE that item of of information from the file\n",
      "\n",
      "Summary:\n",
      "\n",
      "\n",
      "fcra\n",
      "date\n",
      "including\n"
     ]
    }
   ],
   "source": [
    "text = df_ef.sample()['Consumer complaint narrative'].values[0].strip()\n",
    "print text\n",
    "print\n",
    "\n",
    "print \"Summary:\"\n",
    "print summarize(text)\n",
    "print\n",
    "\n",
    "print keywords(text)"
   ]
  },
  {
   "cell_type": "code",
   "execution_count": 24,
   "metadata": {
    "collapsed": false
   },
   "outputs": [
    {
     "name": "stdout",
     "output_type": "stream",
     "text": [
      "Summary:\n",
      "The answering machine records a woman introducing herself as Maude Lebowski and saying that she is the one who took his rug and has sent a car to pick Dude up at his apartment.\n",
      "As he climbs out of bed to make a White Russian, Maude asks about the apartment and Dude explains that Treehorn's thugs most likely vandalized it looking for Lebowski's money.\n",
      "\n",
      "Keywords:\n",
      "dude\n",
      "dudes\n",
      "walter\n",
      "lebowski\n",
      "brandt\n",
      "maude\n",
      "donny\n",
      "bunny\n"
     ]
    }
   ],
   "source": [
    "text = requests.get('http://rare-technologies.com/the_big_lebowski_synopsis.txt').text\n",
    "\n",
    "print 'Summary:'\n",
    "print summarize(text, ratio=0.01)\n",
    "\n",
    "print '\\nKeywords:'\n",
    "print keywords(text, ratio=0.01)"
   ]
  }
 ],
 "metadata": {
  "kernelspec": {
   "display_name": "Python 2",
   "language": "python",
   "name": "python2"
  },
  "language_info": {
   "codemirror_mode": {
    "name": "ipython",
    "version": 2
   },
   "file_extension": ".py",
   "mimetype": "text/x-python",
   "name": "python",
   "nbconvert_exporter": "python",
   "pygments_lexer": "ipython2",
   "version": "2.7.12"
  }
 },
 "nbformat": 4,
 "nbformat_minor": 0
}
